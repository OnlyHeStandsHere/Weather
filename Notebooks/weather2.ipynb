{
 "cells": [
  {
   "cell_type": "code",
   "execution_count": 1,
   "metadata": {
    "collapsed": true
   },
   "outputs": [],
   "source": [
    "from sql import Sql\n",
    "import pandas\n",
    "from pandas.io.json import json_normalize\n",
    "import pyodbc\n",
    "import json"
   ]
  },
  {
   "cell_type": "code",
   "execution_count": 14,
   "metadata": {},
   "outputs": [],
   "source": [
    "def get_db_con():\n",
    "    # make a connection string\n",
    "    return pyodbc.connect('Trusted_Connection=yes',\n",
    "                             driver='{ODBC Driver 13 for SQL Server}',\n",
    "                             server='localhost',\n",
    "                             database='Weather')"
   ]
  },
  {
   "cell_type": "code",
   "execution_count": 2,
   "metadata": {},
   "outputs": [],
   "source": [
    "# open the weather json file\n",
    "try:\n",
    "    fileName = 'vancouverweather.json' #'C:\\\\Users\\\\jmaitland\\\\Source\\\\Repos\\\\VesselPrediction\\\\DataParsing\\\\vancouverweather.json'\n",
    "    file = open(fileName)\n",
    "    sfile = file.read()\n",
    "except FileNotFoundError:\n",
    "    print(\"The file {} could not be found\".format(fileName))"
   ]
  },
  {
   "cell_type": "code",
   "execution_count": 3,
   "metadata": {},
   "outputs": [],
   "source": [
    "# load json file into a list\n",
    "raw_json = json.loads(sfile)"
   ]
  },
  {
   "cell_type": "code",
   "execution_count": 4,
   "metadata": {},
   "outputs": [],
   "source": [
    "result = json_normalize(raw_json, errors='ignore')"
   ]
  },
  {
   "cell_type": "code",
   "execution_count": 5,
   "metadata": {},
   "outputs": [],
   "source": [
    "weather_df = result[['dt', 'weather']]"
   ]
  },
  {
   "cell_type": "code",
   "execution_count": 6,
   "metadata": {},
   "outputs": [],
   "source": [
    "index = list(range(46290))\n",
    "columns = ['dt', 'descr', 'main', 'icon', 'id']"
   ]
  },
  {
   "cell_type": "code",
   "execution_count": 7,
   "metadata": {},
   "outputs": [],
   "source": [
    "weather_df2 = pandas.DataFrame(index=index, columns=columns)"
   ]
  },
  {
   "cell_type": "code",
   "execution_count": 8,
   "metadata": {},
   "outputs": [],
   "source": [
    "i = 0\n",
    "j = 0\n",
    "this_row = 0\n",
    "for index, row in weather_df.iterrows():\n",
    "    for item in row['weather']:\n",
    "        weather_df2['dt'][i] = row['dt']\n",
    "        weather_df2['descr'][i] = item['description']\n",
    "        weather_df2['main'][i] = item['main']\n",
    "        weather_df2['icon'][i] = item['icon']\n",
    "        weather_df2['id'][i] = item['id']\n",
    "        i += 1\n",
    "    j += 1"
   ]
  },
  {
   "cell_type": "code",
   "execution_count": 20,
   "metadata": {},
   "outputs": [],
   "source": [
    "#declare columns for sql insert\n",
    "con = get_db_con()\n",
    "cursor = con.cursor()\n",
    "sql = Sql()\n",
    "columns = ['LinuxTime', 'Descr', 'Main', 'Icon', 'WeatherID']\n",
    "query = sql.get_insert(table_name='weather.weather', columns=columns)"
   ]
  },
  {
   "cell_type": "code",
   "execution_count": 22,
   "metadata": {},
   "outputs": [],
   "source": [
    "# loop through the df and insert to sql server\n",
    "for index, row in weather_df2.iterrows():\n",
    "    values = [int(row['dt']), str(row['descr']), str(row['main']), str(row['icon']),int(row['id'])]\n",
    "    cursor.execute(query, values)\n",
    "cursor.commit()"
   ]
  },
  {
   "cell_type": "code",
   "execution_count": 37,
   "metadata": {},
   "outputs": [],
   "source": [
    "columns = ['cityid', 'clouds', 'LinuxTime', 'dtos', 'humidity', 'pressure', 'temp', \n",
    "           'MaxTemp', 'MinTemp', 'rain1h', 'rain24h', 'rain3h', 'rainToday', \n",
    "           'snow1h','snow3h', 'winddeg', 'windspeed']\n",
    "query = sql.get_insert(table_name='weather.raw', columns=columns)"
   ]
  },
  {
   "cell_type": "code",
   "execution_count": 47,
   "metadata": {},
   "outputs": [],
   "source": [
    "for i, r in result.iterrows():\n",
    "    if type(r['rain.3h']) != float:\n",
    "        print(i)"
   ]
  },
  {
   "cell_type": "code",
   "execution_count": 49,
   "metadata": {},
   "outputs": [],
   "source": [
    "for index, row in result.iterrows():\n",
    "    values = [int(row['city_id']), \n",
    "              int(row['clouds.all']),\n",
    "              int(row['dt']),\n",
    "              str(row['dt_iso']),\n",
    "              int(row['main.humidity']),\n",
    "              int(row['main.pressure']),\n",
    "              str(row['main.temp']),\n",
    "              str(row['main.temp_max']),\n",
    "              str(row['main.temp_min']),\n",
    "              str(row['rain.1h']),\n",
    "              str(row['rain.24h']),\n",
    "              str(row['rain.3h']),\n",
    "              str(row['rain.today']),\n",
    "              str(row['snow.1h']),\n",
    "              str(row['snow.3h']),\n",
    "              int(row['wind.deg']),\n",
    "              int(row['wind.speed'])]\n",
    "    cursor.execute(query, values)\n",
    "#cursor.commit()"
   ]
  },
  {
   "cell_type": "code",
   "execution_count": 50,
   "metadata": {},
   "outputs": [],
   "source": [
    "cursor.commit()"
   ]
  },
  {
   "cell_type": "code",
   "execution_count": null,
   "metadata": {},
   "outputs": [],
   "source": [
    ""
   ]
  }
 ],
 "metadata": {
  "kernelspec": {
   "display_name": "Python 2",
   "language": "python",
   "name": "python2"
  },
  "language_info": {
   "codemirror_mode": {
    "name": "ipython",
    "version": 2
   },
   "file_extension": ".py",
   "mimetype": "text/x-python",
   "name": "python",
   "nbconvert_exporter": "python",
   "pygments_lexer": "ipython2",
   "version": "2.7.6"
  }
 },
 "nbformat": 4,
 "nbformat_minor": 0
}
